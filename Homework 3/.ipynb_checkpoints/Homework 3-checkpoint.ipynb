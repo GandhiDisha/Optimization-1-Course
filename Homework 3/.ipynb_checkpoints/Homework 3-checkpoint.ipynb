{
 "cells": [
  {
   "cell_type": "markdown",
   "id": "20628967",
   "metadata": {},
   "source": [
    "## Homework 3 - Disha Gandhi"
   ]
  },
  {
   "cell_type": "code",
   "execution_count": 1,
   "id": "b26e6f7c",
   "metadata": {},
   "outputs": [],
   "source": [
    "import numpy as np\n",
    "import gurobipy as gp"
   ]
  },
  {
   "cell_type": "markdown",
   "id": "fc556714",
   "metadata": {},
   "source": [
    "#### Question 2"
   ]
  },
  {
   "cell_type": "markdown",
   "id": "a664f79c",
   "metadata": {},
   "source": [
    "A company is thinking about building new facilities in Austin and Dallas. Here is the relevant data.\n",
    "Total capital available for investment is 11M dollars. You can’t build more than one factory (warehouse) in one place. At most one warehouse must be built in Austin or Dallas. At least one factory must be built in Austin or Dallas. Find the optimal investment strategy.\n",
    "Is building the Factory in Dallas part of the optimal investment strategy?"
   ]
  },
  {
   "cell_type": "code",
   "execution_count": 15,
   "id": "543f2181",
   "metadata": {},
   "outputs": [],
   "source": [
    "obj = np.array([9,5,6,4])\n",
    "A = np.zeros((3,4))\n",
    "A[0,:] = [6,3,5,2]\n",
    "A[1,:] = [0,0,1,1]\n",
    "A[2,:] = [1,1,0,0]\n",
    "sense = ['<','<','>']\n",
    "b = np.array([11,1,1])"
   ]
  },
  {
   "cell_type": "code",
   "execution_count": 16,
   "id": "cc3e4b47",
   "metadata": {},
   "outputs": [],
   "source": [
    "ipMod = gp.Model()\n",
    "ipMod_x = ipMod.addMVar(4,vtype=['I','I','I','I'],ub=np.array([1,1,1,1])) # 'C' or 'I' or 'B'\n",
    "ipMod_con = ipMod.addMConstrs(A, ipMod_x, sense, b)\n",
    "ipMod.setMObjective(None,obj,0,sense=gp.GRB.MAXIMIZE)\n",
    "\n",
    "ipMod.Params.OutputFlag = 0 # tell gurobi to shut up!!\n",
    "ipMod.Params.TimeLimit = 3600\n",
    "ipMod.optimize()"
   ]
  },
  {
   "cell_type": "code",
   "execution_count": 17,
   "id": "f6222a76",
   "metadata": {},
   "outputs": [
    {
     "data": {
      "text/plain": [
       "18.0"
      ]
     },
     "execution_count": 17,
     "metadata": {},
     "output_type": "execute_result"
    }
   ],
   "source": [
    "ipMod.objVal # optimal revenue level"
   ]
  },
  {
   "cell_type": "code",
   "execution_count": 18,
   "id": "9bf61cbe",
   "metadata": {},
   "outputs": [
    {
     "data": {
      "text/plain": [
       "[1.0, 1.0, -0.0, 1.0]"
      ]
     },
     "execution_count": 18,
     "metadata": {},
     "output_type": "execute_result"
    }
   ],
   "source": [
    "ipMod.x"
   ]
  },
  {
   "cell_type": "markdown",
   "id": "10c605bf",
   "metadata": {},
   "source": [
    "#### Question 3"
   ]
  },
  {
   "cell_type": "markdown",
   "id": "4de6b51b",
   "metadata": {},
   "source": [
    "Western Airlines wants to design a hub system in the United States. Each hub is used for connecting flights to and from cities within 1000 miles of the hub. Western runs flights among the following cities: Atlanta (ATL), Boston (BOS), Chicago (CHI), Denver (DEN), Houston (HOU), Los Angeles (LAX), New Orleans (NO), New York (NY), Pittsburgh (PIT), Salt Lake City (SLC), San Francisco (SF), and Seattle (SEA). The company wants to determine the smallest number of hubs it needs to cover all these cities, where a city is covered if it is within 1000 miles of at least one hub. The table below lists which cities are within 1000 miles of other cities. For example, if a hub was placed at Boston (BOS), it could cover the cities of Boston, New York, and Pittsburgh.\n",
    "Formulate and solve this problem as a binary integer program.\n",
    "\n",
    "Is SLC a hub in the optimal solution?"
   ]
  },
  {
   "cell_type": "code",
   "execution_count": 2,
   "id": "ba10b179",
   "metadata": {},
   "outputs": [],
   "source": [
    "A = np.zeros([12,12])\n",
    "A[0:] =[1,0,1,0,1,0,1,1,1,0,0,0]\n",
    "A[1:] =[0,1,0,0,0,0,0,1,1,0,0,0]\n",
    "A[2:] =[1,0,1,0,0,0,1,1,1,0,0,0]\n",
    "A[3:] =[0,0,0,1,0,0,0,0,0,1,0,0]\n",
    "A[4:] =[1,0,0,0,1,0,1,0,0,0,0,0]\n",
    "A[5:] =[0,0,0,0,0,1,0,0,0,1,1,0]\n",
    "A[6:] =[1,0,1,0,1,0,1,0,0,0,0,0]\n",
    "A[7:] =[1,1,1,0,0,0,0,1,1,0,0,0]\n",
    "A[8:] =[1,1,1,0,0,0,0,1,1,0,0,0]\n",
    "A[9:] =[0,0,0,1,0,1,0,0,0,1,1,1]\n",
    "A[10:] =[0,0,0,0,0,1,0,0,0,1,1,1]\n",
    "A[11:] =[0,0,0,0,0,0,0,0,0,1,1,1]\n",
    "\n",
    "obj=np.array([1,1,1,1,1,1,1,1,1,1,1,1])\n",
    "\n",
    "sense = (np.array(['>']*12))\n",
    "\n",
    "b = np.array([1]*12)\n",
    "\n",
    "\n",
    "ub=np.array([1]*12)\n",
    "lb=np.array([0]*12)"
   ]
  },
  {
   "cell_type": "code",
   "execution_count": 3,
   "id": "e2ce557c",
   "metadata": {},
   "outputs": [
    {
     "name": "stdout",
     "output_type": "stream",
     "text": [
      "Set parameter Username\n",
      "Academic license - for non-commercial use only - expires 2023-09-11\n"
     ]
    }
   ],
   "source": [
    "npvMod = gp.Model()\n",
    "npvMod_x = npvMod.addMVar(len(obj),vtype=['B']*len(obj)) # 'C' or 'I' or 'B'\n",
    "npvMod_con = npvMod.addMConstrs(A, npvMod_x, sense, b)\n",
    "npvMod.setMObjective(None,obj,0,sense=gp.GRB.MINIMIZE)\n",
    "\n",
    "npvMod.Params.OutputFlag = 0 # tell gurobi to shut up!!\n",
    "npvMod.optimize()"
   ]
  },
  {
   "cell_type": "code",
   "execution_count": 4,
   "id": "deb5434c",
   "metadata": {},
   "outputs": [
    {
     "data": {
      "text/plain": [
       "array([1., 0., 0., 0., 0., 0., 0., 0., 1., 1., 0., 0.])"
      ]
     },
     "execution_count": 4,
     "metadata": {},
     "output_type": "execute_result"
    }
   ],
   "source": [
    "npvMod_x.x"
   ]
  },
  {
   "cell_type": "code",
   "execution_count": 5,
   "id": "47038971",
   "metadata": {},
   "outputs": [
    {
     "data": {
      "text/plain": [
       "3.0"
      ]
     },
     "execution_count": 5,
     "metadata": {},
     "output_type": "execute_result"
    }
   ],
   "source": [
    "npvMod.objVal"
   ]
  },
  {
   "cell_type": "markdown",
   "id": "0d88109a",
   "metadata": {},
   "source": [
    "#### Question 4"
   ]
  },
  {
   "cell_type": "markdown",
   "id": "f3e140fe",
   "metadata": {},
   "source": [
    "A paper mill cuts the rolls of paper into different widths to satisfy customers’ demand. In this problem, assume the original rolls of paper are 120 inches wide. The table below shows the orders received by the paper mill.\n",
    "A 120 inch roll can be cut in many ways. For example, we can cut four 25-inch rolls while wasting the remaining 20 inches; we can also cut one 25-inch, one 37-inch, and one 54-inch. In the second case, only 4 inches is wasted.\n",
    "Develop and solve an integer program to minimize the waste from cutting to satisfy all orders. For more information, you can check out the cutting stock problem on wikipedia:\n",
    "\n",
    "How many rolls get cut into the pattern such that there are 3 cuts of 25 inches, and 1 cut of 37 inches (this pattern results in 8\" waste)?"
   ]
  },
  {
   "cell_type": "code",
   "execution_count": 6,
   "id": "6255fb8e",
   "metadata": {},
   "outputs": [
    {
     "name": "stdout",
     "output_type": "stream",
     "text": [
      "[(0, 0, 2), (0, 3, 0), (1, 1, 1), (1, 2, 0), (2, 0, 1), (3, 1, 0), (4, 0, 0)]\n"
     ]
    }
   ],
   "source": [
    "combo_list = []\n",
    "for i in range(5):# for x\n",
    "    for j in range(4):#for y\n",
    "        for k in range(3):\n",
    "            if 25*i+37*j+54*k <= 120 and (120 - (25*i+37*j+54*k))<25:\n",
    "                temp = (i,j,k)\n",
    "                combo_list.append(temp)\n",
    "print(combo_list)"
   ]
  },
  {
   "cell_type": "code",
   "execution_count": 8,
   "id": "845302f6",
   "metadata": {},
   "outputs": [],
   "source": [
    "obj = np.zeros(len(combo_list))\n",
    "A = np.zeros((3,len(combo_list)))\n",
    "b = np.array([233,148,106])\n",
    "sense = np.array(['>']*3)\n",
    "vtype = np.array(['I']*len(combo_list))\n",
    "\n",
    "for i in range(len(combo_list)):\n",
    "    obj[i] = 120 - (25*combo_list[i][0]+37*combo_list[i][1]+54*combo_list[i][2])\n",
    "    A[0,i] = combo_list[i][0]\n",
    "    A[1,i] = combo_list[i][1]\n",
    "    A[2,i] = combo_list[i][2]\n"
   ]
  },
  {
   "cell_type": "code",
   "execution_count": 10,
   "id": "abe802a4",
   "metadata": {},
   "outputs": [],
   "source": [
    "ipMod_4 = gp.Model()\n",
    "ipMod_x4 = ipMod_4.addMVar(len(combo_list),vtype=vtype) # 'C' or 'I' or 'B', C = continuous variables, I = Integer variables &\n",
    "# B = Binary variables (1 or 0)\n",
    "ipMod_con4 = ipMod_4.addMConstrs(A, ipMod_x4, sense, b)\n",
    "ipMod_4.setMObjective(None,obj,0)##sense=gp.GRB.MAXIMIZE)\n",
    "ipMod_4.Params.OutputFlag = 0 # tell gurobi to shut up!!\n",
    "ipMod_4.optimize()"
   ]
  },
  {
   "cell_type": "code",
   "execution_count": 11,
   "id": "a0aaad7d",
   "metadata": {},
   "outputs": [
    {
     "data": {
      "text/plain": [
       "array([ -0.,  -0., 107.,  -0.,  -0.,  42.,  -0.])"
      ]
     },
     "execution_count": 11,
     "metadata": {},
     "output_type": "execute_result"
    }
   ],
   "source": [
    "ipMod_x4.x"
   ]
  },
  {
   "cell_type": "code",
   "execution_count": 12,
   "id": "b616cdfd",
   "metadata": {},
   "outputs": [
    {
     "data": {
      "text/plain": [
       "764.0"
      ]
     },
     "execution_count": 12,
     "metadata": {},
     "output_type": "execute_result"
    }
   ],
   "source": [
    "ipMod_4.ObjVal"
   ]
  },
  {
   "cell_type": "markdown",
   "id": "0ec13601",
   "metadata": {},
   "source": [
    "#### Question 5"
   ]
  },
  {
   "cell_type": "markdown",
   "id": "34ddbd5b",
   "metadata": {},
   "source": [
    "The days-off scheduling problem must be solved routinely by businesses that operate 6 or 7 days a week. Examples include hospitals, airlines, municipal transportation companies, and the postal service. The most common example is the (5,7)-cyclic staffing problem. The objective of it is to minimize the cost of assigning workers to a 7-day cyclic schedule so that\n",
    "1) Sufficient workers are available every day.\n",
    "2) Each person works 5 consecutive days and is idle to the remaining 2 days.\n",
    "Here is the table showing the cost of having an employee for each day and the number of employees required for each day.\n",
    "For example, the pattern that one works from Sunday to Thursday costs 90 + 60 × 4 = 330. Formulate and solve an integer programming problem to represent this problem.\n",
    "How many employees work Monday-Friday?"
   ]
  },
  {
   "cell_type": "code",
   "execution_count": 30,
   "id": "5be29a50",
   "metadata": {},
   "outputs": [],
   "source": [
    "obj = np.array([300,330,360,360,360,360,330])\n",
    "A = np.zeros((7,7))\n",
    "A[0,:] = [0,0,1,1,1,1,1]\n",
    "A[1,:] = [1,0,0,1,1,1,1]\n",
    "A[2,:] = [1,1,0,0,1,1,1]\n",
    "A[3,:] = [1,1,1,0,0,1,1]\n",
    "A[4,:] = [1,1,1,1,0,0,1]\n",
    "A[5,:] = [1,1,1,1,1,0,0]\n",
    "A[6,:] = [0,1,1,1,1,1,0]\n",
    "sense = np.array(['>','>','>','>','>','>','>'])\n",
    "b = np.array([5,13,12,10,14,8,6])"
   ]
  },
  {
   "cell_type": "code",
   "execution_count": 33,
   "id": "27837476",
   "metadata": {},
   "outputs": [],
   "source": [
    "ipMod = gp.Model()\n",
    "ipMod_x = ipMod.addMVar(7,vtype=['I','I','I','I','I','I','I']) # 'C' or 'I' or 'B'\n",
    "ipMod_con = ipMod.addMConstrs(A, ipMod_x, sense, b)\n",
    "ipMod.setMObjective(None,obj,0,sense=gp.GRB.MINIMIZE)\n",
    "\n",
    "ipMod.Params.OutputFlag = 0 # tell gurobi to shut up!!\n",
    "ipMod.Params.TimeLimit = 3600\n",
    "ipMod.optimize()"
   ]
  },
  {
   "cell_type": "code",
   "execution_count": 34,
   "id": "c5804831",
   "metadata": {},
   "outputs": [
    {
     "data": {
      "text/plain": [
       "4830.0"
      ]
     },
     "execution_count": 34,
     "metadata": {},
     "output_type": "execute_result"
    }
   ],
   "source": [
    "ipMod.objVal # optimal revenue level"
   ]
  },
  {
   "cell_type": "code",
   "execution_count": 35,
   "id": "2b474256",
   "metadata": {},
   "outputs": [
    {
     "data": {
      "text/plain": [
       "[8.0, 2.0, -0.0, 3.0, 1.0, -0.0, 1.0]"
      ]
     },
     "execution_count": 35,
     "metadata": {},
     "output_type": "execute_result"
    }
   ],
   "source": [
    "ipMod.x"
   ]
  }
 ],
 "metadata": {
  "kernelspec": {
   "display_name": "Python 3",
   "language": "python",
   "name": "python3"
  },
  "language_info": {
   "codemirror_mode": {
    "name": "ipython",
    "version": 3
   },
   "file_extension": ".py",
   "mimetype": "text/x-python",
   "name": "python",
   "nbconvert_exporter": "python",
   "pygments_lexer": "ipython3",
   "version": "3.7.6"
  }
 },
 "nbformat": 4,
 "nbformat_minor": 5
}
