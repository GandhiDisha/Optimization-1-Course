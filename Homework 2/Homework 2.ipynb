{
 "cells": [
  {
   "cell_type": "markdown",
   "id": "9c9208f1",
   "metadata": {},
   "source": [
    "## Homework 2 - Disha Gandhi"
   ]
  },
  {
   "cell_type": "code",
   "execution_count": 1,
   "id": "24c261df",
   "metadata": {},
   "outputs": [],
   "source": [
    "import numpy as np\n",
    "import gurobipy as gp"
   ]
  },
  {
   "cell_type": "markdown",
   "id": "63655b09",
   "metadata": {},
   "source": [
    "#### Question 1"
   ]
  },
  {
   "cell_type": "markdown",
   "id": "390ae0c3",
   "metadata": {},
   "source": [
    "Max is in a pie eating contest that lasts 1 hour. Each torte that he eats takes 2 minutes to eat. Each apple pie that he eats takes 3 minutes. He receives 4 points for each torte and 5 points for each pie. Find the number of tortes and apple pies Max should eat to get the most points. Solve the problem using the graphical method.\n",
    "Next, let’s see what happens if he would like to stick to his preference of eating at least as many pies as tortes. That is; the number of pies he eats should be greater than or equal to the number of tortes.\n",
    "By how many points does this constraint decrease Max’s total points? (this is the part you will submit to the canvas answer.)"
   ]
  },
  {
   "cell_type": "markdown",
   "id": "3aec1e1d",
   "metadata": {},
   "source": [
    "**Answer:** Solved on Paper"
   ]
  },
  {
   "cell_type": "markdown",
   "id": "8b6e4bb2",
   "metadata": {},
   "source": [
    "#### Question 2"
   ]
  },
  {
   "cell_type": "markdown",
   "id": "7975ae1e",
   "metadata": {},
   "source": [
    "A farmer in Iowa owns 450 acres of land. He is going to plant each acre with wheat or corn. Each acre planted with wheat (corn) yields $2,000 ($3,000) profit, requires three (two) workers, and requires two (four) tons of fertilizer. There are currently 1,000 workers and 1,200 tons of fertilizer available.\n",
    "Formulate and solve this problem using gurobi.\n",
    "Next we want to see What happens to the decision variables and the total profit when the availability of fertilizer varies from 200 tons to 2200 tons in 100-ton increments.\n",
    "At what level of fertilizer does the farmer discontinue producing wheat? That is, what is the smallest level of available fertilizer that results in no wheat being produced? Your answer should be one of the 100 ton incremental numbers, like 600 or 1300 or..."
   ]
  },
  {
   "cell_type": "code",
   "execution_count": 16,
   "id": "6c5162cd",
   "metadata": {},
   "outputs": [
    {
     "data": {
      "text/plain": [
       "array([[3., 2.],\n",
       "       [2., 4.],\n",
       "       [1., 1.]])"
      ]
     },
     "execution_count": 16,
     "metadata": {},
     "output_type": "execute_result"
    }
   ],
   "source": [
    "obj = np.array([2000,3000]) # objective vector\n",
    "A = np.zeros((3,2)) # initialize constraint matrix\n",
    "A[0,:] = [3,2] # labor\n",
    "A[1,:] = [2,4] # fertilizer\n",
    "A[2,:] = [1,1] # land\n",
    "b = np.array([1000,1200,450]) # limits on labor and fertilizer\n",
    "sense = np.array(['<','<','<']) # all constraints are less than or equal constraints\n",
    "A"
   ]
  },
  {
   "cell_type": "code",
   "execution_count": 17,
   "id": "fe7358b3",
   "metadata": {},
   "outputs": [
    {
     "data": {
      "text/plain": [
       "array([200., 200.])"
      ]
     },
     "execution_count": 17,
     "metadata": {},
     "output_type": "execute_result"
    }
   ],
   "source": [
    "ojModel = gp.Model() # initialize an empty model\n",
    "\n",
    "ojModX = ojModel.addMVar(2) # tell the model how many variables there are\n",
    "# must define the variables before adding constraints because variables go into the constraints\n",
    "ojModCon = ojModel.addMConstrs(A, ojModX, sense, b) # add the constraints to the model\n",
    "ojModel.setMObjective(None,obj,0,sense=gp.GRB.MAXIMIZE) # add the objective to the model...we'll talk about the None and the 0\n",
    "\n",
    "ojModel.Params.OutputFlag = 0 # tell gurobi to shut up!!\n",
    "ojModel.Params.TimeLimit = 3600\n",
    "ojModel.optimize() # solve the LP\n",
    "ojModel.objVal # optimal revenue level\n",
    "ojModX.x"
   ]
  },
  {
   "cell_type": "markdown",
   "id": "908a1ef1",
   "metadata": {},
   "source": [
    "#### Question 3"
   ]
  },
  {
   "cell_type": "markdown",
   "id": "361801c9",
   "metadata": {},
   "source": [
    "Star Oil Company is considering five different investment opportunities. The table below gives the required cash outflows and net present values in millions of dollars.\n",
    "Star Oil has 40 million dollars available for investment now (time 0); it estimates that one year from now (time 1) 20 million dollars will be available for investment. Star Oil may purchase any fraction of each investment, but no more than 100% of each opportunity. In this case, the cash outflows and NPV are adjusted accordingly.\n",
    "For example, if Star Oil purchases one-fifth of investment 3, then a cash outflow of 1/5 × 5 = 1 million dollars would be required at time 0, and a cash outflow of 1/5 × 5 = 1 million would be required at time 1. The one-fifth share of investment three would yield an NPV of 1/5 ∗ 16 = 3.2 million dollars. Star Oil wants to maximize the NPV that can be obtained by investing in investments 1-5. Formulate an LP that will help achieve this goal. Assume that any funds leftover at time 0 cannot be used at time 1.\n",
    " \n",
    "What percentage of opportunity 3 should be Star Oil invest in? Answer in decimals, so if your answer is 54%, you should input 0.54. Round 2 to decimal places"
   ]
  },
  {
   "cell_type": "code",
   "execution_count": 2,
   "id": "75f4be48",
   "metadata": {},
   "outputs": [
    {
     "data": {
      "text/plain": [
       "array([[11., 53.,  5.,  5., 29.],\n",
       "       [ 3.,  6.,  5.,  1., 34.]])"
      ]
     },
     "execution_count": 2,
     "metadata": {},
     "output_type": "execute_result"
    }
   ],
   "source": [
    "obj = np.array([13,16,16,14,39]) # objective vector\n",
    "A = np.zeros((2,5)) # initialize constraint matrix\n",
    "A[0,:] = [11,53,5,5,29] # time 0\n",
    "A[1,:] = [3,6,5,1,34] # time 1\n",
    "b = np.array([40,20]) # limits on time 0 and time 1\n",
    "sense = np.array(['<','<']) # all constraints are less than or equal constraints\n",
    "A"
   ]
  },
  {
   "cell_type": "code",
   "execution_count": 3,
   "id": "3ba66d4a",
   "metadata": {},
   "outputs": [
    {
     "name": "stdout",
     "output_type": "stream",
     "text": [
      "Set parameter Username\n",
      "Academic license - for non-commercial use only - expires 2023-09-11\n"
     ]
    },
    {
     "data": {
      "text/plain": [
       "array([1.        , 0.20085995, 1.        , 1.        , 0.28808354])"
      ]
     },
     "execution_count": 3,
     "metadata": {},
     "output_type": "execute_result"
    }
   ],
   "source": [
    "ojModel = gp.Model() # initialize an empty model\n",
    "\n",
    "ojModX = ojModel.addMVar(5,ub=np.array([1,1,1,1,1])) # tell the model how many variables there are\n",
    "# must define the variables before adding constraints because variables go into the constraints\n",
    "ojModCon = ojModel.addMConstrs(A, ojModX, sense, b) # add the constraints to the model\n",
    "ojModel.setMObjective(None,obj,0,sense=gp.GRB.MAXIMIZE) # add the objective to the model...we'll talk about the None and the 0\n",
    "\n",
    "ojModel.Params.OutputFlag = 0 # tell gurobi to shut up!!\n",
    "ojModel.Params.TimeLimit = 3600\n",
    "ojModel.optimize() # solve the LP\n",
    "ojModel.objVal # optimal revenue level\n",
    "ojModX.x"
   ]
  },
  {
   "cell_type": "markdown",
   "id": "8b4408ba",
   "metadata": {},
   "source": [
    "#### Question 4"
   ]
  },
  {
   "cell_type": "markdown",
   "id": "14c39d2e",
   "metadata": {},
   "source": [
    "The goal of this problem is to select a set of foods that will satisfy a set of daily nutritional requirement at minimum cost. Suppose there are three foods available, corn, milk, and bread. There are restrictions on the number of calories (between 2000 and 2250) and the amount of Vitamin A (between 5000 and 50,000) that can be eaten. The table below shows, for each food, the cost per serving, the amount of Vitamin A per serving, and the number of calories per serving. Also, the maximum number of servings for each food is 10.\n",
    "How many servings of corn should you eat? Round to 2 decimal places."
   ]
  },
  {
   "cell_type": "code",
   "execution_count": 4,
   "id": "98f722f7",
   "metadata": {},
   "outputs": [
    {
     "data": {
      "text/plain": [
       "array([[ 72., 121.,  65.],\n",
       "       [ 72., 121.,  65.],\n",
       "       [107., 500.,   0.],\n",
       "       [107., 500.,   0.]])"
      ]
     },
     "execution_count": 4,
     "metadata": {},
     "output_type": "execute_result"
    }
   ],
   "source": [
    "obj = np.array([0.18,0.23,0.05]) # objective vector\n",
    "A = np.zeros((4,3)) # initialize constraint matrix\n",
    "A[0,:] = [72,121,65] # calories\n",
    "A[1,:] = [72,121,65] # calories\n",
    "A[2,:] = [107,500,0] # vitA\n",
    "A[3,:] = [107,500,0] # vitA\n",
    "b = np.array([2000,2250,5000,50000]) # limits on calories and vitamin A\n",
    "sense = np.array(['>','<','>','<']) # all constraints are less than or equal constraints\n",
    "A"
   ]
  },
  {
   "cell_type": "code",
   "execution_count": 7,
   "id": "93ca20da",
   "metadata": {},
   "outputs": [
    {
     "data": {
      "text/plain": [
       "array([ 1.94444444, 10.        , 10.        ])"
      ]
     },
     "execution_count": 7,
     "metadata": {},
     "output_type": "execute_result"
    }
   ],
   "source": [
    "ojModel = gp.Model() # initialize an empty model\n",
    "\n",
    "ojModX = ojModel.addMVar(3,ub=np.array([10,10,10])) # tell the model how many variables there are\n",
    "# must define the variables before adding constraints because variables go into the constraints\n",
    "ojModCon = ojModel.addMConstrs(A, ojModX, sense, b) # add the constraints to the model\n",
    "ojModel.setMObjective(None,obj,0,sense=gp.GRB.MINIMIZE) # add the objective to the model...we'll talk about the None and the 0\n",
    "\n",
    "ojModel.Params.OutputFlag = 0 # tell gurobi to shut up!!\n",
    "ojModel.Params.TimeLimit = 3600\n",
    "ojModel.optimize() # solve the LP\n",
    "ojModel.objVal # optimal revenue level\n",
    "ojModX.x"
   ]
  },
  {
   "cell_type": "markdown",
   "id": "6db01ba6",
   "metadata": {},
   "source": [
    "#### Question 5"
   ]
  },
  {
   "cell_type": "markdown",
   "id": "34ea0e93",
   "metadata": {},
   "source": [
    "Paper and wood products companies need to define cutting schedules that will maximize the total wood yield of their forests over some planning period. Suppose that a firm with control of 2 forest units wants to identify the best cutting schedule over a planning horizon of 3 years. Forest unit 1 has a total acreage of 2 and unit 2 has a total of 3 acres. The studies that the company has undertaken predict that each acre in unit 1(2) will have 1, 1.3, 1.4 (1, 1.2, 1.6) tons of woods per acre available for harvesting in year 1, 2, 3 respectively. Based on its prediction of economic conditions, the company believes that it should harvest at least 1.2, 1.5, 2 tons of wood in year 1, 2, 3 separately. Due to the availability of equipment and personnel, the company can harvest at most 2, 2, 3 tons of wood in year 1, 2, 3. Find the company’s best cutting strategy that maximizes the total weights of wood. Here discounting of the time value should not be considered. If some fraction of a forest unit is cut down in year 1, that part of the forest cannot be cut again for the remaining 2 years. Similarly if some fraction of the forest unit is cut down in year 2 it cannot be cut in year 3.\n",
    "In year 3, how many acres of forest unit 2 should be cut down? Round to 2 decimal places."
   ]
  },
  {
   "cell_type": "code",
   "execution_count": 19,
   "id": "e0343c2f",
   "metadata": {},
   "outputs": [
    {
     "data": {
      "text/plain": [
       "array([[1. , 1. , 0. , 0. , 0. , 0. ],\n",
       "       [1. , 1. , 0. , 0. , 0. , 0. ],\n",
       "       [1. , 0. , 1. , 0. , 1. , 0. ],\n",
       "       [0. , 1. , 0. , 1. , 0. , 1. ],\n",
       "       [0. , 0. , 1.3, 1.2, 0. , 0. ],\n",
       "       [0. , 0. , 1.3, 1.2, 0. , 0. ],\n",
       "       [0. , 0. , 0. , 0. , 1.4, 1.6],\n",
       "       [0. , 0. , 0. , 0. , 1.4, 1.6]])"
      ]
     },
     "execution_count": 19,
     "metadata": {},
     "output_type": "execute_result"
    }
   ],
   "source": [
    "obj = np.array([1,1,1.3,1.2,1.4,1.6]) # objective vector\n",
    "A = np.zeros((8,6)) # initialize constraint matrix\n",
    "A[0,:] = [1,1,0,0,0,0] # year1 constraint\n",
    "A[1,:] = [1,1,0,0,0,0] # year1 constraint\n",
    "A[2,:] = [1,0,1,0,1,0] # area of land constaint\n",
    "A[3,:] = [0,1,0,1,0,1] # area of land constaint\n",
    "A[4,:] = [0,0,1.3,1.2,0,0] # year2 constraint\n",
    "A[5,:] = [0,0,1.3,1.2,0,0] # year2 constraint\n",
    "A[6,:] = [0,0,0,0,1.4,1.6] # year3 constraint\n",
    "A[7,:] = [0,0,0,0,1.4,1.6] # year3 constraint\n",
    "b = np.array([1.2,2,2,3,1.5,2,2,3]) # limits on area and year\n",
    "sense = np.array(['>','<','<','<','>','<','>','<']) # all constraints are less than or equal constraints\n",
    "A"
   ]
  },
  {
   "cell_type": "code",
   "execution_count": 20,
   "id": "f3adee61",
   "metadata": {},
   "outputs": [
    {
     "data": {
      "text/plain": [
       "array([0.46153846, 1.125     , 1.53846154, 0.        , 0.        ,\n",
       "       1.875     ])"
      ]
     },
     "execution_count": 20,
     "metadata": {},
     "output_type": "execute_result"
    }
   ],
   "source": [
    "ojModel = gp.Model() # initialize an empty model\n",
    "\n",
    "ojModX = ojModel.addMVar(6,lb=np.array([0,0,0,0,0,0])) # tell the model how many variables there are\n",
    "# must define the variables before adding constraints because variables go into the constraints\n",
    "ojModCon = ojModel.addMConstrs(A, ojModX, sense, b) # add the constraints to the model\n",
    "ojModel.setMObjective(None,obj,0,sense=gp.GRB.MAXIMIZE) # add the objective to the model...we'll talk about the None and the 0\n",
    "\n",
    "ojModel.Params.OutputFlag = 0 # tell gurobi to shut up!!\n",
    "ojModel.Params.TimeLimit = 3600\n",
    "ojModel.optimize() # solve the LP\n",
    "ojModel.objVal # optimal revenue level\n",
    "ojModX.x"
   ]
  }
 ],
 "metadata": {
  "kernelspec": {
   "display_name": "Python 3 (ipykernel)",
   "language": "python",
   "name": "python3"
  },
  "language_info": {
   "codemirror_mode": {
    "name": "ipython",
    "version": 3
   },
   "file_extension": ".py",
   "mimetype": "text/x-python",
   "name": "python",
   "nbconvert_exporter": "python",
   "pygments_lexer": "ipython3",
   "version": "3.9.13"
  }
 },
 "nbformat": 4,
 "nbformat_minor": 5
}
